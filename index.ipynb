{
 "cells": [
  {
   "cell_type": "markdown",
   "metadata": {},
   "source": [
    "# Systems of Linear Equations - Lab\n",
    "\n",
    "## Introduction\n",
    "The following scenarios present problems that can be solved as a system of equations while performing substitutions and eliminations as you saw in the previous lesson.\n",
    "\n",
    "* Solve these problems by hand, showing all the steps to work out the unknown variable values \n",
    "* Verify your answers by showing the calculated values satisfy all equations\n",
    "\n",
    "## Objectives\n",
    "\n",
    "In this lab you will: \n",
    "\n",
    "- Solve a system of equations using elimination and substitution\n",
    "\n",
    "## Exercise 1\n",
    "Jane paid 12 dollars for 4 cups of coffee and 4 cups of tea. 3 cups of coffee cost as much as 2 cups of tea. What would be the total cost of 5 cups of coffee and 5 cups of tea?\n",
    "\n",
    "### Solution\n",
    "\n",
    "> Let $x$ be the unit price of coffee and $y$ be the unit price of tea"
   ]
  },
  {
   "cell_type": "code",
   "execution_count": null,
   "metadata": {},
   "outputs": [],
   "source": [
    "# Your solution here \n",
    "\n",
    "'''\n",
    "A.) 4x + 4y = 12\n",
    "B.) 3x - 2y = 0\n",
    "\n",
    "Notice the the numbers in A are divisible by 4.\n",
    "In effect, that makes it:\n",
    "\n",
    "A.) x + y = 3\n",
    "    x = 3 - y\n",
    "    \n",
    "Substituting x in B:\n",
    "\n",
    "B.) 3(3-y) - 2y = 0\n",
    "B.) 9 - 3y - 2y = 0\n",
    "B.) 9 - 5y = 0\n",
    "B.) y = 9/5\n",
    "B.) y = 1.8\n",
    "\n",
    "From (A)\n",
    "\n",
    "A.) x = 3 - 1.8\n",
    "A.) x = 1.2\n",
    "\n",
    "Answer:\n",
    "5(1.8) + 5(1.2) = 15 dollars\n",
    "\n",
    "'''\n",
    "\n",
    "\n",
    "# Answer: 5 cups of tea and 5 cups of coffee = 15 dollars"
   ]
  },
  {
   "cell_type": "markdown",
   "metadata": {},
   "source": [
    "## Exercise 2\n",
    "\n",
    "Jim has more money than Bob. If Jim gave Bob 20 dollars, they would have the same amount. If Bob gave Jim 22 dollars, however, Jim would then have twice as much as Bob. \n",
    "\n",
    "How much does each one actually have?\n",
    "\n",
    "### Solution\n",
    "> Let x be the amount of money that Jim has and y be the amount that Bob has "
   ]
  },
  {
   "cell_type": "code",
   "execution_count": 40,
   "metadata": {},
   "outputs": [
    {
     "data": {
      "text/plain": [
       "-28"
      ]
     },
     "execution_count": 40,
     "metadata": {},
     "output_type": "execute_result"
    }
   ],
   "source": [
    "2*8 - 44"
   ]
  },
  {
   "cell_type": "code",
   "execution_count": null,
   "metadata": {},
   "outputs": [],
   "source": [
    "# Your solution here\n",
    "\n",
    "'''\n",
    "\n",
    "A.) j - 20 = b + 20\n",
    "B.) j + 22 = 2(b - 22)\n",
    "\n",
    "\n",
    "From (A):\n",
    "\n",
    "j = b + 40\n",
    "\n",
    "Substitute j in B:\n",
    "\n",
    "C.) b + 40 + 22 = 2(b - 22)\n",
    "D.) b + 40 + 22 = 2b - 44\n",
    "E.) b + 62 = 2b - 44\n",
    "\n",
    "Add 44 to both sides:\n",
    "\n",
    "F.) b + 106 = 2b\n",
    "\n",
    "Remove one b from each side:\n",
    "\n",
    "G.) 106 = b\n",
    "H.) b = 106\n",
    "\n",
    "\n",
    "Substitute b in in A:\n",
    "\n",
    "j = 106 + 40\n",
    "j = 146\n",
    "\n",
    "\n",
    "'''\n",
    "\n",
    "\n",
    "# Answer:\n",
    "# y = 106 (Bob's amount)\n",
    "# x = 146 (Jim's amount)"
   ]
  },
  {
   "cell_type": "code",
   "execution_count": 45,
   "metadata": {},
   "outputs": [
    {
     "data": {
      "text/plain": [
       "168"
      ]
     },
     "execution_count": 45,
     "metadata": {},
     "output_type": "execute_result"
    }
   ],
   "source": []
  },
  {
   "cell_type": "markdown",
   "metadata": {},
   "source": [
    "## Exercise 3\n",
    "\n",
    "Mia has 30 coins, consisting of quarters (25 cents) and dimes (10 cents), which totals to the amount 5.70 dollars.  \n",
    "How many of each does she have?\n",
    "\n",
    "### Solution\n",
    "\n",
    "> Let x be the number of quarters and y be the number of dimes "
   ]
  },
  {
   "cell_type": "code",
   "execution_count": null,
   "metadata": {},
   "outputs": [],
   "source": [
    "# Your solution here \n",
    "\n",
    "'''\n",
    "\n",
    "A.) x + y = 30\n",
    "B.) .25x + .10y = 5.70\n",
    "\n",
    "Multiply (A) by -10 and (B) by -100 to eliminate y:\n",
    "\n",
    "A.) -10x - 10y = -300\n",
    "B.) 25x + 10y = 570\n",
    "\n",
    "Eliminate y by adding A and B:\n",
    "\n",
    "C. 15x = 270\n",
    "C. x = 270/15 = 18\n",
    "\n",
    "Substitute x in A:\n",
    "\n",
    "A.) 18 + y = 30\n",
    "A.) y = 30 - 18 = 12\n",
    "\n",
    "Subtitute x and y in B:\n",
    "\n",
    "B.) .25(18) + .10(12) = 5.70\n",
    "\n",
    "\n",
    "'''\n",
    "\n",
    "# Answer:\n",
    "# x = 18 quarters\n",
    "# y = 12 dimes"
   ]
  },
  {
   "cell_type": "markdown",
   "metadata": {},
   "source": [
    "## Level up (Optional)\n",
    "For more practice with linear equations, visit the following links for more complex equations:\n",
    "\n",
    "* https://www.transum.org/software/SW/Starter_of_the_day/Students/Simultaneous_Equations.asp?Level=6\n",
    "* https://www.transum.org/software/SW/Starter_of_the_day/Students/Simultaneous_Equations.asp?Level=7\n",
    "\n",
    "## Summary\n",
    "\n",
    "In this lesson, you learned how to solve linear equations by hand to find the coefficient values. You'll now move forward to have a deeper look into vectors and matrices and how Python and NumPy can help us solve more complex equations in an analytical context. "
   ]
  }
 ],
 "metadata": {
  "kernelspec": {
   "display_name": "learn-env",
   "language": "python",
   "name": "learn-env"
  },
  "language_info": {
   "codemirror_mode": {
    "name": "ipython",
    "version": 3
   },
   "file_extension": ".py",
   "mimetype": "text/x-python",
   "name": "python",
   "nbconvert_exporter": "python",
   "pygments_lexer": "ipython3",
   "version": "3.6.6"
  }
 },
 "nbformat": 4,
 "nbformat_minor": 2
}
